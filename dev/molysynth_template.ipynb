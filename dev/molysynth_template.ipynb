{
 "cells": [
  {
   "cell_type": "markdown",
   "id": "f8f03d8b-02fc-467b-9a28-158b9e79ee9d",
   "metadata": {},
   "source": [
    "We need some libraries."
   ]
  },
  {
   "cell_type": "code",
   "execution_count": null,
   "id": "5a2a2149-000f-4b14-89f9-fdc5300b5f9b",
   "metadata": {},
   "outputs": [],
   "source": [
    "using WAV\n",
    "using DSP\n",
    "using Plots"
   ]
  },
  {
   "cell_type": "markdown",
   "id": "1b6067c5-3559-432a-8c9c-52d2f4b035bf",
   "metadata": {},
   "source": [
    "When we load a wav file we filter it with the same filter as is initially used in the tracker."
   ]
  },
  {
   "cell_type": "code",
   "execution_count": null,
   "id": "d6138d68-cf53-4400-b772-ce2a483949d7",
   "metadata": {},
   "outputs": [],
   "source": [
    "y, sampfq = wavread(\"../dat/scale1.wav\");\n",
    "y = y[:,1];\n",
    "Y = filt(0.02, [1.0; -1.8; 0.82], y);\n",
    "wavplay(y, sampfq)"
   ]
  },
  {
   "cell_type": "markdown",
   "id": "a328dbce-32c0-4ef3-be5a-6dbbd43ec125",
   "metadata": {},
   "source": [
    "To show some blocks that the tracker sees we do like this."
   ]
  },
  {
   "cell_type": "code",
   "execution_count": null,
   "id": "bfe4e6c0-1d2c-43ef-98bb-314da74d530e",
   "metadata": {},
   "outputs": [],
   "source": [
    "n = 256 * 8\n",
    "p = 256 * 506\n",
    "x = Y[p + 1:p + n]\n",
    "wavplay(x, sampfq)\n",
    "plot(x)"
   ]
  },
  {
   "cell_type": "markdown",
   "id": "2b20092f-8bb8-44aa-bc23-05f8591c7950",
   "metadata": {},
   "source": [
    "Let us look at the periodogram for that signal."
   ]
  },
  {
   "cell_type": "code",
   "execution_count": null,
   "id": "4f1060a0-4eca-4c8d-bbee-bd77386e1647",
   "metadata": {},
   "outputs": [],
   "source": [
    "pxx = periodogram(x; fs=sampfq)\n",
    "M = 64\n",
    "plot(pxx.freq[1:M], pxx.power[1:M])"
   ]
  },
  {
   "cell_type": "markdown",
   "id": "d187b259-6dc9-4ac6-990b-77ed64bcf6d3",
   "metadata": {},
   "source": [
    "We can listen to the output after running molysynth from command line: \"molysynth ../dat/scale1.wav\"."
   ]
  },
  {
   "cell_type": "code",
   "execution_count": null,
   "id": "0e25b754-ac54-461f-9c11-c6d6207b5148",
   "metadata": {},
   "outputs": [],
   "source": [
    "y, sampfq = wavread(\"../src/tmp.wav\");\n",
    "wavplay(y, sampfq)\n",
    "\"done\""
   ]
  }
 ],
 "metadata": {
  "kernelspec": {
   "display_name": "Julia 1.10.5",
   "language": "julia",
   "name": "julia-1.10"
  },
  "language_info": {
   "file_extension": ".jl",
   "mimetype": "application/julia",
   "name": "julia",
   "version": "1.10.5"
  }
 },
 "nbformat": 4,
 "nbformat_minor": 5
}
